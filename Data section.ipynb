{
    "cells": [
        {
            "cell_type": "markdown",
            "metadata": {
                "collapsed": true
            },
            "source": "# Data section"
        },
        {
            "attachments": {},
            "cell_type": "markdown",
            "metadata": {},
            "source": "I will use this data source (https://en.wikipedia.org/wiki/List_of_areas_of_London) for **London**.\nI will **scrape the Wikipedia page** and **wrangle the data, clean it and then read it into a pandas dataframe** so that it is in a **structured format like the New York dataset**."
        },
        {
            "cell_type": "markdown",
            "metadata": {},
            "source": "I will use this data source from IBM Lab course **\u201cSegmenting and Clustering Neighborhoods in New York City\u201d** , https://cf-courses-data.s3.us.cloud-object-storage.appdomain.cloud/IBMDeveloperSkillsNetwork-DS0701EN-SkillsNetwork/labs/newyork_data.json). This data contains the 5 boroughs and the neighborhoods that exist in each borough as well as the the latitude and logitude coordinates of each neighborhood."
        },
        {
            "cell_type": "markdown",
            "metadata": {},
            "source": "**Data explanation**"
        },
        {
            "attachments": {},
            "cell_type": "markdown",
            "metadata": {},
            "source": "After I **download** the data, I will check the neighborhoods data and transform it into a **pandas dataframe**. \nI will use **geopy library** to get the latitude and longitude values of **New York city and London**. \nThen creating a **map of New York City and London with neighborhoods** superimposed on top. \nAs soon as I get this data, I will use **Folium** to make simplify the map and **segment and cluster only the neighborhoods in Manhattan of NY city and Westminster of London**. \nFor this step, I will use my **Foursquare Credentials and start utilizing the Foursquare API to explore the neighborhoods and segment them**. \nUsing **GET request URL** to get the unique categories from the returned venues. \nAfter all, I will **analyze each neighborhood and cluster neighborhoods**. \nFinally, I will **examine clusters**. \nThen I will provide for the **final data** and draw my conclusion based on the results."
        },
        {
            "cell_type": "markdown",
            "metadata": {},
            "source": "***This data section may be updated after I finish my final version***"
        },
        {
            "cell_type": "markdown",
            "metadata": {},
            "source": "Please kindly note that I am not a professional of Data Science and I still need a lot to learn about this. Even this is wrong or not perfect, this is my first time project."
        }
    ],
    "metadata": {
        "kernelspec": {
            "display_name": "Python 3.7",
            "language": "python",
            "name": "python3"
        },
        "language_info": {
            "codemirror_mode": {
                "name": "ipython",
                "version": 3
            },
            "file_extension": ".py",
            "mimetype": "text/x-python",
            "name": "python",
            "nbconvert_exporter": "python",
            "pygments_lexer": "ipython3",
            "version": "3.7.10"
        }
    },
    "nbformat": 4,
    "nbformat_minor": 1
}