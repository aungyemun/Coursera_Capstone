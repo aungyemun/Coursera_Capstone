{
    "cells": [
        {
            "cell_type": "markdown",
            "metadata": {
                "collapsed": true
            },
            "source": "# Background"
        },
        {
            "attachments": {},
            "cell_type": "markdown",
            "metadata": {},
            "source": "United Kingdom capital city's **London** is comparable to **New York City (NYC)** with the population of totaling around **8.9 million** compared to NYC\u2019s **8.4 million**. However, London area covers around 607 square miles which is about twice as big as NYC\u2019s 302.6 square mile area. (https://sarahfunky.com/travel-tips/2020/06/16/considering-a-move-the-differences-between-living-in-nyc-vs-london/)"
        },
        {
            "cell_type": "markdown",
            "metadata": {},
            "source": "There are **32 boroughs in London** and **5 boroughs in New York**. (https://en.wikipedia.org/wiki/London_boroughs) (https://www.nycgo.com/neighborhoods-boroughs/about-nyc-five-boroughs) "
        },
        {
            "cell_type": "markdown",
            "metadata": {},
            "source": "Among them, **Manhattan of New York City** is one of the best areas of New York depends on this reference (https://www.insightguides.com/destinations/north-america/united-states/new-york-state/new-york-city/city-areas). On the other hand, **Westminster of London** is the best-performing borough in 2019 depends on this reference (https://www.cbreresidential.com/uk/en-GB/news/news-hot-100-2019-londons-best-performing-boroughs-ranked). "
        },
        {
            "cell_type": "markdown",
            "metadata": {},
            "source": "There is an article which mentioned about **\u201cConsidering a Move? The Differences Between Living in NYC Vs London\u201d** (https://sarahfunky.com/travel-tips/2020/06/16/considering-a-move-the-differences-between-living-in-nyc-vs-london/).\nBoth cities are very diverse and attractive as well as well-known for many people."
        }
    ],
    "metadata": {
        "kernelspec": {
            "display_name": "Python 3.7",
            "language": "python",
            "name": "python3"
        },
        "language_info": {
            "codemirror_mode": {
                "name": "ipython",
                "version": 3
            },
            "file_extension": ".py",
            "mimetype": "text/x-python",
            "name": "python",
            "nbconvert_exporter": "python",
            "pygments_lexer": "ipython3",
            "version": "3.7.10"
        }
    },
    "nbformat": 4,
    "nbformat_minor": 1
}